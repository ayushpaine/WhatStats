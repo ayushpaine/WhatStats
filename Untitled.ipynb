{
 "cells": [
  {
   "cell_type": "code",
   "execution_count": 14,
   "id": "a33d3f96",
   "metadata": {},
   "outputs": [],
   "source": [
    "import re\n",
    "import pandas as pd\n",
    "from datetime import datetime, date"
   ]
  },
  {
   "cell_type": "code",
   "execution_count": 15,
   "id": "05e962ce",
   "metadata": {},
   "outputs": [],
   "source": [
    "f = open('WhatsApp Chat with DINO THUNDER POWERUP HA!.txt', 'r', encoding='utf-8')"
   ]
  },
  {
   "cell_type": "code",
   "execution_count": 16,
   "id": "5f719e85",
   "metadata": {},
   "outputs": [],
   "source": [
    "data = f.read()"
   ]
  },
  {
   "cell_type": "code",
   "execution_count": 17,
   "id": "72049b23",
   "metadata": {},
   "outputs": [],
   "source": [
    "patternAMPM = '\\d{1,2}/\\d{1,2}/\\d{2,4},\\s\\d{1,2}:\\d{2}\\s\\w{2}\\s-\\s'\n",
    "pattern247 = '\\d{1,2}/\\d{1,2}/\\d{2,4},\\s\\d{1,2}:\\d{2}\\s-\\s'"
   ]
  },
  {
   "cell_type": "code",
   "execution_count": 18,
   "id": "83b899e2",
   "metadata": {},
   "outputs": [],
   "source": [
    "messagesAMPM = re.split(patternAMPM, data)\n",
    "messages247 = re.split(pattern247, data)\n"
   ]
  },
  {
   "cell_type": "code",
   "execution_count": 19,
   "id": "6ffc1308",
   "metadata": {},
   "outputs": [],
   "source": [
    "datesAMPM = re.findall(patternAMPM, data)\n",
    "dates247 = re.findall(pattern247, data)"
   ]
  },
  {
   "cell_type": "code",
   "execution_count": 20,
   "id": "f044312d",
   "metadata": {},
   "outputs": [
    {
     "name": "stdout",
     "output_type": "stream",
     "text": [
      "2022-02-28\n"
     ]
    }
   ],
   "source": [
    "#datesAMPM\n",
    "print(date.today())"
   ]
  },
  {
   "cell_type": "code",
   "execution_count": 21,
   "id": "d95ba820",
   "metadata": {},
   "outputs": [
    {
     "name": "stdout",
     "output_type": "stream",
     "text": [
      "['1', '/', '3', '1', '/', '2', '2', ',', ' ', '1', '2', ':', '1', '6', ' ', 'P', 'M', ' ', '-', ' ']\n",
      "['1', '2', '/', '2', '/', '2', '1', ',', ' ', '3', ':', '0', '5', ' ', 'P', 'M', ' ', '-', ' ']\n",
      "12/02/21, 15:05 - \n",
      "01/31/22, 12:16 - \n"
     ]
    }
   ],
   "source": [
    "print((list(datesAMPM[1000])))\n",
    "print((list(datesAMPM[1])))\n",
    "print(datetime.strptime(datesAMPM[1], '%m/%d/%y, %I:%M %p - ').strftime('%m/%d/%y, %H:%M - '))\n",
    "print(datetime.strptime(datesAMPM[1000], '%m/%d/%y, %I:%M %p - ').strftime('%m/%d/%y, %H:%M - '))"
   ]
  },
  {
   "cell_type": "code",
   "execution_count": 30,
   "id": "d4468264",
   "metadata": {},
   "outputs": [],
   "source": [
    "messagesto247 = []\n",
    "def convertto247(messages):\n",
    "    dateL = ''\n",
    "    for date in messages:\n",
    "         dateL += str(datetime.strptime(date, '%m/%d/%y, %I:%M %p - ').strftime('%m/%d/%y, %H:%M - '))\n",
    "         messagesto247.append(dateL)"
   ]
  },
  {
   "cell_type": "code",
   "execution_count": 31,
   "id": "27000d26",
   "metadata": {},
   "outputs": [
    {
     "ename": "ValueError",
     "evalue": "time data '' does not match format '%m/%d/%y, %I:%M %p - '",
     "output_type": "error",
     "traceback": [
      "\u001b[0;31m---------------------------------------------------------------------------\u001b[0m",
      "\u001b[0;31mValueError\u001b[0m                                Traceback (most recent call last)",
      "Input \u001b[0;32mIn [31]\u001b[0m, in \u001b[0;36m<module>\u001b[0;34m\u001b[0m\n\u001b[1;32m      5\u001b[0m     messages \u001b[38;5;241m=\u001b[39m messagesAMPM\n\u001b[1;32m      6\u001b[0m     dates \u001b[38;5;241m=\u001b[39m datesAMPM\n\u001b[0;32m----> 7\u001b[0m     \u001b[43mconvertto247\u001b[49m\u001b[43m(\u001b[49m\u001b[43mmessages\u001b[49m\u001b[43m)\u001b[49m\n\u001b[1;32m      8\u001b[0m \u001b[38;5;28;01melse\u001b[39;00m:\n\u001b[1;32m      9\u001b[0m     messages \u001b[38;5;241m=\u001b[39m messages247\n",
      "Input \u001b[0;32mIn [30]\u001b[0m, in \u001b[0;36mconvertto247\u001b[0;34m(messages)\u001b[0m\n\u001b[1;32m      3\u001b[0m dateL \u001b[38;5;241m=\u001b[39m \u001b[38;5;124m'\u001b[39m\u001b[38;5;124m'\u001b[39m\n\u001b[1;32m      4\u001b[0m \u001b[38;5;28;01mfor\u001b[39;00m date \u001b[38;5;129;01min\u001b[39;00m messages:\n\u001b[0;32m----> 5\u001b[0m      dateL \u001b[38;5;241m+\u001b[39m\u001b[38;5;241m=\u001b[39m \u001b[38;5;28mstr\u001b[39m(\u001b[43mdatetime\u001b[49m\u001b[38;5;241;43m.\u001b[39;49m\u001b[43mstrptime\u001b[49m\u001b[43m(\u001b[49m\u001b[43mdate\u001b[49m\u001b[43m,\u001b[49m\u001b[43m \u001b[49m\u001b[38;5;124;43m'\u001b[39;49m\u001b[38;5;124;43m%\u001b[39;49m\u001b[38;5;124;43mm/\u001b[39;49m\u001b[38;5;132;43;01m%d\u001b[39;49;00m\u001b[38;5;124;43m/\u001b[39;49m\u001b[38;5;124;43m%\u001b[39;49m\u001b[38;5;124;43my, \u001b[39;49m\u001b[38;5;124;43m%\u001b[39;49m\u001b[38;5;124;43mI:\u001b[39;49m\u001b[38;5;124;43m%\u001b[39;49m\u001b[38;5;124;43mM \u001b[39;49m\u001b[38;5;124;43m%\u001b[39;49m\u001b[38;5;124;43mp - \u001b[39;49m\u001b[38;5;124;43m'\u001b[39;49m\u001b[43m)\u001b[49m\u001b[38;5;241m.\u001b[39mstrftime(\u001b[38;5;124m'\u001b[39m\u001b[38;5;124m%\u001b[39m\u001b[38;5;124mm/\u001b[39m\u001b[38;5;132;01m%d\u001b[39;00m\u001b[38;5;124m/\u001b[39m\u001b[38;5;124m%\u001b[39m\u001b[38;5;124my, \u001b[39m\u001b[38;5;124m%\u001b[39m\u001b[38;5;124mH:\u001b[39m\u001b[38;5;124m%\u001b[39m\u001b[38;5;124mM - \u001b[39m\u001b[38;5;124m'\u001b[39m))\n\u001b[1;32m      6\u001b[0m      messagesto247\u001b[38;5;241m.\u001b[39mappend(dateL)\n",
      "File \u001b[0;32m/usr/lib/python3.8/_strptime.py:568\u001b[0m, in \u001b[0;36m_strptime_datetime\u001b[0;34m(cls, data_string, format)\u001b[0m\n\u001b[1;32m    565\u001b[0m \u001b[38;5;28;01mdef\u001b[39;00m \u001b[38;5;21m_strptime_datetime\u001b[39m(\u001b[38;5;28mcls\u001b[39m, data_string, \u001b[38;5;28mformat\u001b[39m\u001b[38;5;241m=\u001b[39m\u001b[38;5;124m\"\u001b[39m\u001b[38;5;132;01m%a\u001b[39;00m\u001b[38;5;124m \u001b[39m\u001b[38;5;124m%\u001b[39m\u001b[38;5;124mb \u001b[39m\u001b[38;5;132;01m%d\u001b[39;00m\u001b[38;5;124m \u001b[39m\u001b[38;5;124m%\u001b[39m\u001b[38;5;124mH:\u001b[39m\u001b[38;5;124m%\u001b[39m\u001b[38;5;124mM:\u001b[39m\u001b[38;5;124m%\u001b[39m\u001b[38;5;124mS \u001b[39m\u001b[38;5;124m%\u001b[39m\u001b[38;5;124mY\u001b[39m\u001b[38;5;124m\"\u001b[39m):\n\u001b[1;32m    566\u001b[0m     \u001b[38;5;124;03m\"\"\"Return a class cls instance based on the input string and the\u001b[39;00m\n\u001b[1;32m    567\u001b[0m \u001b[38;5;124;03m    format string.\"\"\"\u001b[39;00m\n\u001b[0;32m--> 568\u001b[0m     tt, fraction, gmtoff_fraction \u001b[38;5;241m=\u001b[39m \u001b[43m_strptime\u001b[49m\u001b[43m(\u001b[49m\u001b[43mdata_string\u001b[49m\u001b[43m,\u001b[49m\u001b[43m \u001b[49m\u001b[38;5;28;43mformat\u001b[39;49m\u001b[43m)\u001b[49m\n\u001b[1;32m    569\u001b[0m     tzname, gmtoff \u001b[38;5;241m=\u001b[39m tt[\u001b[38;5;241m-\u001b[39m\u001b[38;5;241m2\u001b[39m:]\n\u001b[1;32m    570\u001b[0m     args \u001b[38;5;241m=\u001b[39m tt[:\u001b[38;5;241m6\u001b[39m] \u001b[38;5;241m+\u001b[39m (fraction,)\n",
      "File \u001b[0;32m/usr/lib/python3.8/_strptime.py:349\u001b[0m, in \u001b[0;36m_strptime\u001b[0;34m(data_string, format)\u001b[0m\n\u001b[1;32m    347\u001b[0m found \u001b[38;5;241m=\u001b[39m format_regex\u001b[38;5;241m.\u001b[39mmatch(data_string)\n\u001b[1;32m    348\u001b[0m \u001b[38;5;28;01mif\u001b[39;00m \u001b[38;5;129;01mnot\u001b[39;00m found:\n\u001b[0;32m--> 349\u001b[0m     \u001b[38;5;28;01mraise\u001b[39;00m \u001b[38;5;167;01mValueError\u001b[39;00m(\u001b[38;5;124m\"\u001b[39m\u001b[38;5;124mtime data \u001b[39m\u001b[38;5;132;01m%r\u001b[39;00m\u001b[38;5;124m does not match format \u001b[39m\u001b[38;5;132;01m%r\u001b[39;00m\u001b[38;5;124m\"\u001b[39m \u001b[38;5;241m%\u001b[39m\n\u001b[1;32m    350\u001b[0m                      (data_string, \u001b[38;5;28mformat\u001b[39m))\n\u001b[1;32m    351\u001b[0m \u001b[38;5;28;01mif\u001b[39;00m \u001b[38;5;28mlen\u001b[39m(data_string) \u001b[38;5;241m!=\u001b[39m found\u001b[38;5;241m.\u001b[39mend():\n\u001b[1;32m    352\u001b[0m     \u001b[38;5;28;01mraise\u001b[39;00m \u001b[38;5;167;01mValueError\u001b[39;00m(\u001b[38;5;124m\"\u001b[39m\u001b[38;5;124munconverted data remains: \u001b[39m\u001b[38;5;132;01m%s\u001b[39;00m\u001b[38;5;124m\"\u001b[39m \u001b[38;5;241m%\u001b[39m\n\u001b[1;32m    353\u001b[0m                       data_string[found\u001b[38;5;241m.\u001b[39mend():])\n",
      "\u001b[0;31mValueError\u001b[0m: time data '' does not match format '%m/%d/%y, %I:%M %p - '"
     ]
    }
   ],
   "source": [
    "messages = ''\n",
    "dates = ''\n",
    "\n",
    "if(len(messagesAMPM) > 0):\n",
    "    messages = messagesAMPM\n",
    "    dates = datesAMPM\n",
    "    convertto247(messages)\n",
    "else:\n",
    "    messages = messages247\n",
    "    dates = dates247"
   ]
  },
  {
   "cell_type": "code",
   "execution_count": null,
   "id": "6a706b0d",
   "metadata": {},
   "outputs": [],
   "source": [
    "messages = messages[1: ]"
   ]
  },
  {
   "cell_type": "code",
   "execution_count": null,
   "id": "c5e5b942",
   "metadata": {},
   "outputs": [],
   "source": []
  },
  {
   "cell_type": "code",
   "execution_count": null,
   "id": "6a9a88e4",
   "metadata": {},
   "outputs": [],
   "source": []
  },
  {
   "cell_type": "code",
   "execution_count": null,
   "id": "77ed037c",
   "metadata": {},
   "outputs": [],
   "source": []
  },
  {
   "cell_type": "code",
   "execution_count": null,
   "id": "c4408938",
   "metadata": {},
   "outputs": [],
   "source": []
  }
 ],
 "metadata": {
  "kernelspec": {
   "display_name": "Python 3 (ipykernel)",
   "language": "python",
   "name": "python3"
  },
  "language_info": {
   "codemirror_mode": {
    "name": "ipython",
    "version": 3
   },
   "file_extension": ".py",
   "mimetype": "text/x-python",
   "name": "python",
   "nbconvert_exporter": "python",
   "pygments_lexer": "ipython3",
   "version": "3.8.10"
  }
 },
 "nbformat": 4,
 "nbformat_minor": 5
}
